{
 "cells": [
  {
   "cell_type": "markdown",
   "metadata": {},
   "source": [
    "# Importar librerias"
   ]
  },
  {
   "cell_type": "code",
   "execution_count": 1,
   "metadata": {},
   "outputs": [],
   "source": [
    "import os\n",
    "import pandas as pd\n",
    "pd.options.display.float_format = '${:,.2f}'.format\n",
    "import numpy as np\n",
    "# libreria para la descarga de datos\n",
    "import wget\n",
    "import zipfile\n",
    "from datetime import datetime\n",
    "import json"
   ]
  },
  {
   "cell_type": "markdown",
   "metadata": {},
   "source": [
    "# Crear los df"
   ]
  },
  {
   "cell_type": "code",
   "execution_count": 2,
   "metadata": {},
   "outputs": [],
   "source": [
    "# Data a un DataFrame\n",
    "df_presupuesto = pd.read_csv(\"./PresupuestoEduSonora.csv\")\n",
    "df_estudiantes_matriculados = pd.read_csv(\"./CantidadEstudiantesEduSuperior.csv\")"
   ]
  },
  {
   "cell_type": "markdown",
   "metadata": {},
   "source": [
    "# Tranformar Data"
   ]
  },
  {
   "cell_type": "code",
   "execution_count": 3,
   "metadata": {},
   "outputs": [],
   "source": [
    "# Hacemos una copia para no modificar la data original\n",
    "df_presupuesto_tidy = df_presupuesto.copy()\n",
    "df_estudiantes_matriculados_tidy = df_estudiantes_matriculados.copy()\n",
    "\n",
    "# Creamos una columna con la informacion de la inflacion para poder sacar el presupuesto basado en la inflación.\n",
    "df_presupuesto_tidy[\"Amount Executed whit inflation 2021\"] = [4927965126.63,5620885256.43,5882068944.27,6414849338.70,6779900503.00]\n",
    "\n",
    "\n",
    "# Seleccionamos la informacion requerida del dataset df_presupuesto_tidy\n",
    "df_presupuesto_tidy = df_presupuesto_tidy[['Year', 'Amount Executed whit inflation 2021']]\n",
    "df_presupuesto_tidy['Year'] = pd.to_datetime(df_presupuesto_tidy['Year'], format='%Y')\n",
    "df_presupuesto_tidy.head()\n",
    "\n",
    "# Seleccionamos la informacion requerida del dataset df_estudiantes_matriculados_tidy\n",
    "df_estudiantes_matriculados_tidy['Year'] = pd.to_datetime(df_estudiantes_matriculados_tidy['Year'], format='%Y')\n",
    "df_estudiantes_matriculados_tidy.head()\n",
    "\n",
    "# Convinamos nuestros dos df's y convertidos la columna Year a type period\n",
    "tidyDf = pd.merge(df_presupuesto_tidy.assign(grouper=df_presupuesto_tidy['Year'].dt.to_period('2Y')),\n",
    "               df_estudiantes_matriculados_tidy.assign(grouper=df_estudiantes_matriculados_tidy['Year'].dt.to_period('2Y')),\n",
    "               how='left', on='grouper')\n",
    "tidyDf = tidyDf.drop(columns=[\"Year_x\",\"Year_y\",\"State\",\"State ID\"])"
   ]
  },
  {
   "cell_type": "markdown",
   "metadata": {},
   "source": [
    "# Salida a .csv"
   ]
  },
  {
   "cell_type": "code",
   "execution_count": 4,
   "metadata": {},
   "outputs": [],
   "source": [
    "# Exportar el DataFrame a un archivo CSV\n",
    "tidyDf.to_csv(\"tidyDf.csv\", index=False)"
   ]
  }
 ],
 "metadata": {
  "kernelspec": {
   "display_name": "Python 3.6.2 64-bit",
   "language": "python",
   "name": "python3"
  },
  "language_info": {
   "codemirror_mode": {
    "name": "ipython",
    "version": 3
   },
   "file_extension": ".py",
   "mimetype": "text/x-python",
   "name": "python",
   "nbconvert_exporter": "python",
   "pygments_lexer": "ipython3",
   "version": "3.6.2"
  },
  "orig_nbformat": 4,
  "vscode": {
   "interpreter": {
    "hash": "7bbc88b994272282fd1a09defab1a3c7c3501499b032f2963e06b3f53c7729f7"
   }
  }
 },
 "nbformat": 4,
 "nbformat_minor": 2
}
